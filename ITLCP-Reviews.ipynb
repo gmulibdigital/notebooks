{
 "cells": [
  {
   "cell_type": "markdown",
   "metadata": {},
   "source": [
    "## OJS Custom Reviews Export\n",
    "\n",
    "Code for generating a CSV file for all submissions during a given date range from a local version of the database. Runs on Python3. Additional authors are printed within \"{}\"."
   ]
  },
  {
   "cell_type": "code",
   "execution_count": null,
   "metadata": {
    "collapsed": false
   },
   "outputs": [],
   "source": [
    "import pymysql.cursors"
   ]
  },
  {
   "cell_type": "code",
   "execution_count": null,
   "metadata": {
    "collapsed": false
   },
   "outputs": [],
   "source": [
    "# Connect to the database\n",
    "db = pymysql.connect(host='localhost',\n",
    "                            user='root',\n",
    "                            password='',\n",
    "                            db='ojs2',\n",
    "                            cursorclass=pymysql.cursors.DictCursor)"
   ]
  },
  {
   "cell_type": "code",
   "execution_count": null,
   "metadata": {
    "collapsed": true
   },
   "outputs": [],
   "source": [
    "journal_id = 10"
   ]
  },
  {
   "cell_type": "code",
   "execution_count": null,
   "metadata": {
    "collapsed": true
   },
   "outputs": [],
   "source": [
    "# For submission: ID | Title | Author | Abstract (if possible) |  Section (if possible)"
   ]
  },
  {
   "cell_type": "code",
   "execution_count": null,
   "metadata": {
    "collapsed": false
   },
   "outputs": [],
   "source": [
    "# Article IDs\n",
    "import csv\n",
    "articles = []\n",
    "with open('ITLCP-articleIDS.csv', 'r') as f:\n",
    "    reader = csv.reader(f)\n",
    "    next(reader)\n",
    "    for row in reader:\n",
    "        articles.append(', '.join(row))"
   ]
  },
  {
   "cell_type": "code",
   "execution_count": null,
   "metadata": {
    "collapsed": false
   },
   "outputs": [],
   "source": [
    "# print(articles)\n",
    "article_string = \",\".join( map(str, articles) )"
   ]
  },
  {
   "cell_type": "code",
   "execution_count": null,
   "metadata": {
    "collapsed": false
   },
   "outputs": [],
   "source": [
    "len(articles)"
   ]
  },
  {
   "cell_type": "code",
   "execution_count": null,
   "metadata": {
    "collapsed": false
   },
   "outputs": [],
   "source": [
    "# Get Review Information\n",
    "with db.cursor() as cursor:\n",
    "    #Get Review Assignments\n",
    "    sql = \"\"\"\n",
    "        SELECT review_assignments.review_id, review_assignments.reviewer_id, \n",
    "            review_assignments.recommendation, review_assignments.submission_id,\n",
    "            review_form_responses.review_form_element_id,\n",
    "            review_form_responses.response_value\n",
    "        FROM review_assignments\n",
    "        LEFT JOIN (review_form_responses)\n",
    "            on (review_assignments.review_id = review_form_responses.review_id)\n",
    "        WHERE submission_id \n",
    "        IN (%s)\n",
    "    \"\"\" \n",
    "    cursor.execute(sql % (article_string))\n",
    "    review_responses = cursor.fetchall()"
   ]
  },
  {
   "cell_type": "code",
   "execution_count": null,
   "metadata": {
    "collapsed": false
   },
   "outputs": [],
   "source": [
    "# review_responses"
   ]
  },
  {
   "cell_type": "code",
   "execution_count": null,
   "metadata": {
    "collapsed": false
   },
   "outputs": [],
   "source": [
    "element_ids = []\n",
    "for d in review_responses:\n",
    "    if d['review_form_element_id'] != None:\n",
    "        element_ids.append(d['review_form_element_id'])\n",
    "    else:\n",
    "        continue\n",
    "        "
   ]
  },
  {
   "cell_type": "code",
   "execution_count": null,
   "metadata": {
    "collapsed": false
   },
   "outputs": [],
   "source": [
    "# print(element_ids)\n",
    "element_string = \",\".join( map(str, element_ids) )"
   ]
  },
  {
   "cell_type": "code",
   "execution_count": null,
   "metadata": {
    "collapsed": false
   },
   "outputs": [],
   "source": [
    "# Get Review Questions\n",
    "with db.cursor() as cursor:\n",
    "    sql = \"\"\"\n",
    "        SELECT review_form_element_id, setting_value\n",
    "        FROM review_form_element_settings\n",
    "        WHERE review_form_element_id\n",
    "        IN (%s)\n",
    "        AND setting_name LIKE 'question'\n",
    "    \"\"\" \n",
    "    cursor.execute(sql % element_string)\n",
    "    review_elements = cursor.fetchall()"
   ]
  },
  {
   "cell_type": "code",
   "execution_count": null,
   "metadata": {
    "collapsed": false
   },
   "outputs": [],
   "source": [
    "for each in review_elements:\n",
    "    each['question'] = each.pop('setting_value')"
   ]
  },
  {
   "cell_type": "code",
   "execution_count": null,
   "metadata": {
    "collapsed": false
   },
   "outputs": [],
   "source": [
    "# review_elements"
   ]
  },
  {
   "cell_type": "code",
   "execution_count": null,
   "metadata": {
    "collapsed": true
   },
   "outputs": [],
   "source": [
    "# Get Submission Information"
   ]
  },
  {
   "cell_type": "code",
   "execution_count": null,
   "metadata": {
    "collapsed": false
   },
   "outputs": [],
   "source": [
    "with db.cursor() as cursor:\n",
    "    sql = \"\"\"\n",
    "        SELECT articles.user_id, articles.section_id, articles.article_id,\n",
    "            article_settings.setting_value\n",
    "        FROM articles\n",
    "        LEFT JOIN (article_settings)\n",
    "            ON (articles.article_id = article_settings.article_id)\n",
    "        WHERE articles.article_id\n",
    "        IN (%s)\n",
    "        AND article_settings.setting_name LIKE 'cleanTitle'\n",
    "    \"\"\" \n",
    "    cursor.execute(sql % article_string)\n",
    "    article_elements = cursor.fetchall()"
   ]
  },
  {
   "cell_type": "code",
   "execution_count": null,
   "metadata": {
    "collapsed": false
   },
   "outputs": [],
   "source": [
    "for each in article_elements:\n",
    "    each['title'] = each.pop('setting_value')\n",
    "    each['submission_id'] = each.pop('article_id')"
   ]
  },
  {
   "cell_type": "code",
   "execution_count": null,
   "metadata": {
    "collapsed": false
   },
   "outputs": [],
   "source": [
    "# article_elements"
   ]
  },
  {
   "cell_type": "code",
   "execution_count": null,
   "metadata": {
    "collapsed": true
   },
   "outputs": [],
   "source": [
    "# Get section information"
   ]
  },
  {
   "cell_type": "code",
   "execution_count": null,
   "metadata": {
    "collapsed": true
   },
   "outputs": [],
   "source": [
    "sections = []\n",
    "for each in article_elements:\n",
    "    sections.append(each['section_id'])\n",
    "    \n",
    "sections_string = \",\".join( map(str, sections) )"
   ]
  },
  {
   "cell_type": "code",
   "execution_count": null,
   "metadata": {
    "collapsed": false
   },
   "outputs": [],
   "source": [
    "with db.cursor() as cursor:\n",
    "    sql = \"\"\"SELECT section_settings.setting_value, section_settings.section_id\n",
    "        FROM section_settings\n",
    "        WHERE section_settings.section_id \n",
    "        IN (%s)\n",
    "        AND setting_name LIKE 'title'\"\"\"\n",
    "    cursor.execute(sql % sections_string)\n",
    "    section_names = cursor.fetchall()"
   ]
  },
  {
   "cell_type": "code",
   "execution_count": null,
   "metadata": {
    "collapsed": true
   },
   "outputs": [],
   "source": [
    "for each in section_names:\n",
    "    each['section'] = each.pop('setting_value')"
   ]
  },
  {
   "cell_type": "code",
   "execution_count": null,
   "metadata": {
    "collapsed": true
   },
   "outputs": [],
   "source": [
    "# User Information"
   ]
  },
  {
   "cell_type": "code",
   "execution_count": null,
   "metadata": {
    "collapsed": true
   },
   "outputs": [],
   "source": [
    "users = []\n",
    "for each in article_elements:\n",
    "    users.append(each['user_id'])\n",
    "    \n",
    "users = \",\".join( map(str, users) )"
   ]
  },
  {
   "cell_type": "code",
   "execution_count": null,
   "metadata": {
    "collapsed": false
   },
   "outputs": [],
   "source": [
    "with db.cursor() as cursor:\n",
    "    sql = \"\"\"\n",
    "        SELECT first_name, last_name, email, user_id\n",
    "        FROM users\n",
    "        WHERE users.user_id\n",
    "        IN (%s)\n",
    "    \"\"\" \n",
    "    cursor.execute(sql % users)\n",
    "    user_information = cursor.fetchall()"
   ]
  },
  {
   "cell_type": "code",
   "execution_count": null,
   "metadata": {
    "collapsed": false
   },
   "outputs": [],
   "source": [
    "# user_information"
   ]
  },
  {
   "cell_type": "code",
   "execution_count": null,
   "metadata": {
    "collapsed": true
   },
   "outputs": [],
   "source": [
    "import pandas as pd"
   ]
  },
  {
   "cell_type": "code",
   "execution_count": null,
   "metadata": {
    "collapsed": true
   },
   "outputs": [],
   "source": [
    "reviews = pd.DataFrame(review_responses)"
   ]
  },
  {
   "cell_type": "code",
   "execution_count": null,
   "metadata": {
    "collapsed": false
   },
   "outputs": [],
   "source": [
    "# reviews"
   ]
  },
  {
   "cell_type": "code",
   "execution_count": null,
   "metadata": {
    "collapsed": true
   },
   "outputs": [],
   "source": [
    "elements = pd.DataFrame(review_elements)"
   ]
  },
  {
   "cell_type": "code",
   "execution_count": null,
   "metadata": {
    "collapsed": false
   },
   "outputs": [],
   "source": [
    "# elements"
   ]
  },
  {
   "cell_type": "code",
   "execution_count": null,
   "metadata": {
    "collapsed": true
   },
   "outputs": [],
   "source": [
    "submissions = pd.DataFrame(article_elements)"
   ]
  },
  {
   "cell_type": "code",
   "execution_count": null,
   "metadata": {
    "collapsed": false
   },
   "outputs": [],
   "source": [
    "# submissions"
   ]
  },
  {
   "cell_type": "code",
   "execution_count": null,
   "metadata": {
    "collapsed": true
   },
   "outputs": [],
   "source": [
    "users = pd.DataFrame(user_information)"
   ]
  },
  {
   "cell_type": "code",
   "execution_count": null,
   "metadata": {
    "collapsed": false
   },
   "outputs": [],
   "source": [
    "# users"
   ]
  },
  {
   "cell_type": "code",
   "execution_count": null,
   "metadata": {
    "collapsed": true
   },
   "outputs": [],
   "source": [
    "sections = pd.DataFrame(section_names)"
   ]
  },
  {
   "cell_type": "code",
   "execution_count": null,
   "metadata": {
    "collapsed": false
   },
   "outputs": [],
   "source": [
    "# sections"
   ]
  },
  {
   "cell_type": "code",
   "execution_count": null,
   "metadata": {
    "collapsed": false
   },
   "outputs": [],
   "source": [
    "merged = pd.merge(reviews, elements, on='review_form_element_id')"
   ]
  },
  {
   "cell_type": "code",
   "execution_count": null,
   "metadata": {
    "collapsed": false
   },
   "outputs": [],
   "source": [
    "merged = pd.merge(merged, submissions, on='submission_id')"
   ]
  },
  {
   "cell_type": "code",
   "execution_count": null,
   "metadata": {
    "collapsed": false
   },
   "outputs": [],
   "source": [
    "merged = pd.merge(merged, users, on='user_id')"
   ]
  },
  {
   "cell_type": "code",
   "execution_count": null,
   "metadata": {
    "collapsed": false
   },
   "outputs": [],
   "source": [
    "merged = pd.merge(merged, sections, on='section_id')"
   ]
  },
  {
   "cell_type": "code",
   "execution_count": null,
   "metadata": {
    "collapsed": false
   },
   "outputs": [],
   "source": [
    "response_key = [{'response_value': '1', 'rating_value': 'Proposal meets the criteria.'}, \n",
    "                {'response_value': '2', 'rating_value': 'Needs some revisions prior to acceptance. (Please specify revisions.)'},\n",
    "                {'response_value': '3', 'rating_value': 'Proposal does not meet the criteria.'}]"
   ]
  },
  {
   "cell_type": "code",
   "execution_count": null,
   "metadata": {
    "collapsed": false
   },
   "outputs": [],
   "source": [
    "response_keys = pd.DataFrame(response_key)"
   ]
  },
  {
   "cell_type": "code",
   "execution_count": null,
   "metadata": {
    "collapsed": false
   },
   "outputs": [],
   "source": [
    "merged = pd.merge(merged, response_keys, on='response_value', how='outer')\n",
    "# merged"
   ]
  },
  {
   "cell_type": "code",
   "execution_count": null,
   "metadata": {
    "collapsed": true
   },
   "outputs": [],
   "source": [
    "recommendation_keys = [{'recommendation': 1, 'recommendation_value': 'Accept Submission'},\n",
    "                      {'recommendation': 2, 'recommendation_value': 'Revisions Required'},\n",
    "                      {'recommendation': 3, 'recommendation_value': 'Resubmit for Review'},\n",
    "                      {'recommendation': 4, 'recommendation_value': 'Resubmit Elsewhere'},\n",
    "                      {'recommendation': 5, 'recommendation_value': 'Decline Submission'},\n",
    "                      {'recommendation': 6, 'recommendation_value': 'See Comments'}]"
   ]
  },
  {
   "cell_type": "code",
   "execution_count": null,
   "metadata": {
    "collapsed": true
   },
   "outputs": [],
   "source": [
    "recommendation_keys = pd.DataFrame(recommendation_keys)"
   ]
  },
  {
   "cell_type": "code",
   "execution_count": null,
   "metadata": {
    "collapsed": false
   },
   "outputs": [],
   "source": [
    "# recommendation_keys"
   ]
  },
  {
   "cell_type": "code",
   "execution_count": null,
   "metadata": {
    "collapsed": false
   },
   "outputs": [],
   "source": [
    "merged = pd.merge(merged, recommendation_keys, on='recommendation', how='outer')"
   ]
  },
  {
   "cell_type": "code",
   "execution_count": null,
   "metadata": {
    "collapsed": true
   },
   "outputs": [],
   "source": [
    "merged.to_csv('review-export-2016-04-26-2.csv')"
   ]
  },
  {
   "cell_type": "code",
   "execution_count": null,
   "metadata": {
    "collapsed": true
   },
   "outputs": [],
   "source": []
  }
 ],
 "metadata": {
  "kernelspec": {
   "display_name": "Python 3",
   "language": "python",
   "name": "python3"
  },
  "language_info": {
   "codemirror_mode": {
    "name": "ipython",
    "version": 3
   },
   "file_extension": ".py",
   "mimetype": "text/x-python",
   "name": "python",
   "nbconvert_exporter": "python",
   "pygments_lexer": "ipython3",
   "version": "3.4.3"
  }
 },
 "nbformat": 4,
 "nbformat_minor": 0
}

{
 "cells": [
  {
   "cell_type": "code",
   "execution_count": null,
   "metadata": {
    "collapsed": true
   },
   "outputs": [],
   "source": [
    "import pandas as pd"
   ]
  },
  {
   "cell_type": "code",
   "execution_count": null,
   "metadata": {
    "collapsed": true
   },
   "outputs": [],
   "source": [
    "def combine_subject_fields(csv):\n",
    "    #fields = ['dc.subject', 'dc.subject[]', 'dc.subject[en]', 'dc.subject[en_US]']\n",
    "\n",
    "    #for field in fields:\n",
    "    try:\n",
    "        df = pd.read_csv(csv, usecols=['id', 'collection', 'dc.identifier.uri', 'dc.identifier.uri[]', 'dc.title[]', 'dc.title[en]', 'dc.title[en_US]', 'dc.subject[]', 'dc.subject[en]', 'dc.subject[en_US]'])\n",
    "        df = df.fillna(' ')\n",
    "#         if field != 'dc.subject[]':\n",
    "#             df = df.rename(columns={ field :'dc.subject[]'})\n",
    "#         else:\n",
    "#             pass\n",
    "        #print(df)\n",
    "        #sets.append(df)\n",
    "    except:\n",
    "        pass\n",
    "#     subjects = pd.concat(sets)\n",
    "    return(df)"
   ]
  },
  {
   "cell_type": "code",
   "execution_count": null,
   "metadata": {
    "collapsed": false
   },
   "outputs": [],
   "source": [
    "csv = '1920-2811.csv'\n",
    "df = combine_subject_fields(csv)"
   ]
  },
  {
   "cell_type": "code",
   "execution_count": null,
   "metadata": {
    "collapsed": false
   },
   "outputs": [],
   "source": [
    "# df"
   ]
  },
  {
   "cell_type": "code",
   "execution_count": null,
   "metadata": {
    "collapsed": false
   },
   "outputs": [],
   "source": [
    "df[\"subject_keyword\"] = df[\"dc.subject[]\"] + df[\"dc.subject[en]\"] + df[\"dc.subject[en_US]\"]"
   ]
  },
  {
   "cell_type": "code",
   "execution_count": null,
   "metadata": {
    "collapsed": false
   },
   "outputs": [],
   "source": [
    "df[\"title\"] = df[\"dc.title[]\"] + df[\"dc.title[en]\"] + df[\"dc.title[en_US]\"]"
   ]
  },
  {
   "cell_type": "code",
   "execution_count": null,
   "metadata": {
    "collapsed": true
   },
   "outputs": [],
   "source": [
    "df[\"uri\"] = df[\"dc.identifier.uri\"] + df[\"dc.identifier.uri[]\"]"
   ]
  },
  {
   "cell_type": "code",
   "execution_count": null,
   "metadata": {
    "collapsed": false
   },
   "outputs": [],
   "source": [
    "df = df.drop(['dc.subject[]', 'dc.subject[en]', 'dc.subject[en_US]', 'dc.title[]', 'dc.title[en]', 'dc.title[en_US]', 'dc.identifier.uri', 'dc.identifier.uri[]'], 1)"
   ]
  },
  {
   "cell_type": "code",
   "execution_count": null,
   "metadata": {
    "collapsed": false
   },
   "outputs": [],
   "source": [
    "# df"
   ]
  },
  {
   "cell_type": "code",
   "execution_count": null,
   "metadata": {
    "collapsed": true
   },
   "outputs": [],
   "source": [
    "def split_subjects(df, delimiter):\n",
    "    s = df['subject_keyword'].apply(lambda x: pd.Series(x.split(delimiter)))\n",
    "    df = df.join(s)\n",
    "    print(df)\n",
    "    df = pd.melt(df, id_vars=['id', 'collection', 'uri', 'title', 'subject_keyword'])\n",
    "    df = df.dropna(how='any')\n",
    "    df = df.drop('variable', 1)\n",
    "    return(df)\n",
    "    "
   ]
  },
  {
   "cell_type": "code",
   "execution_count": null,
   "metadata": {
    "collapsed": false
   },
   "outputs": [],
   "source": [
    "final = split_subjects(df, '||')"
   ]
  },
  {
   "cell_type": "code",
   "execution_count": null,
   "metadata": {
    "collapsed": false
   },
   "outputs": [],
   "source": [
    "# final"
   ]
  },
  {
   "cell_type": "code",
   "execution_count": null,
   "metadata": {
    "collapsed": false
   },
   "outputs": [],
   "source": [
    "final['value'] = final['value'].str.strip()"
   ]
  },
  {
   "cell_type": "code",
   "execution_count": null,
   "metadata": {
    "collapsed": false
   },
   "outputs": [],
   "source": [
    "# final"
   ]
  },
  {
   "cell_type": "code",
   "execution_count": null,
   "metadata": {
    "collapsed": false
   },
   "outputs": [],
   "source": [
    "final_sorted = final.sort_values('value')"
   ]
  },
  {
   "cell_type": "code",
   "execution_count": null,
   "metadata": {
    "collapsed": false
   },
   "outputs": [],
   "source": [
    "# final_sorted"
   ]
  },
  {
   "cell_type": "code",
   "execution_count": null,
   "metadata": {
    "collapsed": false
   },
   "outputs": [],
   "source": [
    "import datetime\n",
    "i = datetime.datetime.now()\n",
    "\n",
    "final_sorted.to_csv('%s-%s-%s-' % (i.year, i.month, i.day) + csv[:-4] + '-split.csv')"
   ]
  },
  {
   "cell_type": "code",
   "execution_count": null,
   "metadata": {
    "collapsed": true
   },
   "outputs": [],
   "source": []
  }
 ],
 "metadata": {
  "kernelspec": {
   "display_name": "Python 3",
   "language": "python",
   "name": "python3"
  },
  "language_info": {
   "codemirror_mode": {
    "name": "ipython",
    "version": 3
   },
   "file_extension": ".py",
   "mimetype": "text/x-python",
   "name": "python",
   "nbconvert_exporter": "python",
   "pygments_lexer": "ipython3",
   "version": "3.4.3"
  }
 },
 "nbformat": 4,
 "nbformat_minor": 0
}

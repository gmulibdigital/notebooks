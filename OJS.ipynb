{
 "cells": [
  {
   "cell_type": "markdown",
   "metadata": {},
   "source": [
    "## OJS Submission Export\n",
    "\n",
    "Code for generating a CSV file for all submissions during a given date range from a local version of the database. Runs on Python3. Additional authors are printed within \"{}\"."
   ]
  },
  {
   "cell_type": "code",
   "execution_count": null,
   "metadata": {
    "collapsed": false
   },
   "outputs": [],
   "source": [
    "import pymysql.cursors"
   ]
  },
  {
   "cell_type": "code",
   "execution_count": null,
   "metadata": {
    "collapsed": false
   },
   "outputs": [],
   "source": [
    "# Connect to the database\n",
    "db = pymysql.connect(host='localhost',\n",
    "                            user='',\n",
    "                            password='',\n",
    "                            db='',\n",
    "                            cursorclass=pymysql.cursors.DictCursor)"
   ]
  },
  {
   "cell_type": "code",
   "execution_count": null,
   "metadata": {
    "collapsed": true
   },
   "outputs": [],
   "source": [
    "journal_id = 10"
   ]
  },
  {
   "cell_type": "code",
   "execution_count": null,
   "metadata": {
    "collapsed": true
   },
   "outputs": [],
   "source": [
    "# For submission: ID | Title | Author | Abstract (if possible) |  Section (if possible)"
   ]
  },
  {
   "cell_type": "code",
   "execution_count": null,
   "metadata": {
    "collapsed": true
   },
   "outputs": [],
   "source": [
    "import time   \n",
    "start_date = time.strftime('2016-02-15 00:00:00')\n",
    "end_date = time.strftime('2016-03-22 13:00:00')"
   ]
  },
  {
   "cell_type": "code",
   "execution_count": null,
   "metadata": {
    "collapsed": false
   },
   "outputs": [],
   "source": [
    "# Article ID, Article Author, Article Title, Section ID\n",
    "\n",
    "with db.cursor() as cursor:\n",
    "    sql = (\"\"\"SELECT articles.article_id, article_settings.setting_value, articles.section_id \n",
    "        FROM articles \n",
    "        LEFT JOIN (article_settings) \n",
    "            on (articles.article_id = article_settings.article_id)\n",
    "        WHERE articles.journal_id = %s \n",
    "            AND articles.date_submitted BETWEEN %s and %s \n",
    "            AND article_settings.setting_name LIKE 'cleanTitle'\"\"\")\n",
    "    cursor.execute(sql, (journal_id, start_date, end_date))\n",
    "    result = cursor.fetchall()"
   ]
  },
  {
   "cell_type": "code",
   "execution_count": null,
   "metadata": {
    "collapsed": false
   },
   "outputs": [],
   "source": [
    "# result"
   ]
  },
  {
   "cell_type": "code",
   "execution_count": null,
   "metadata": {
    "collapsed": false
   },
   "outputs": [],
   "source": [
    "for article in result:\n",
    "    article_id = article.get('article_id')\n",
    "    section_id = article.get('section_id')\n",
    "    with db.cursor() as cursor:\n",
    "        sql1 = \"\"\"SELECT article_settings.setting_value\n",
    "        FROM article_settings\n",
    "        WHERE article_settings.article_id = %s\n",
    "        AND setting_name LIKE 'abstract'\"\"\"\n",
    "        \n",
    "        sql2 = \"\"\"SELECT section_settings.setting_value\n",
    "        FROM section_settings\n",
    "        WHERE section_settings.section_id = %s\n",
    "        AND setting_name LIKE 'title'\"\"\"\n",
    "        \n",
    "        sql3 = \"\"\" SELECT authors.first_name, authors.last_name\n",
    "        FROM authors\n",
    "        WHERE authors.submission_id = %s\"\"\"\n",
    "        \n",
    "        cursor.execute(sql1, (article_id))\n",
    "        abstract_dict = cursor.fetchone()\n",
    "#         print(abstract_dict)\n",
    "        abstract = abstract_dict.get('setting_value')\n",
    "#         print(abstract)\n",
    "        cursor.execute(sql2, (section_id))\n",
    "        section_dict = cursor.fetchone()\n",
    "        section = section_dict.get('setting_value')\n",
    "        \n",
    "        cursor.execute(sql3, (article_id))\n",
    "        authors_dict = cursor.fetchall()\n",
    "#         print(authors_dict)\n",
    "        \n",
    "        author1 = authors_dict[0]\n",
    "        firstname = author1['first_name']\n",
    "        lastname = author1['last_name']\n",
    "        try:\n",
    "            additional_authors = authors_dict[1:]\n",
    "        except:\n",
    "            pass\n",
    "\n",
    "        article.update({'abstract': abstract, 'section': section, 'firstname': firstname, 'lastname': lastname, 'additional_authors': additional_authors })\n",
    "cursor.close()  \n",
    "    "
   ]
  },
  {
   "cell_type": "code",
   "execution_count": null,
   "metadata": {
    "collapsed": false
   },
   "outputs": [],
   "source": [
    "# result"
   ]
  },
  {
   "cell_type": "code",
   "execution_count": null,
   "metadata": {
    "collapsed": true
   },
   "outputs": [],
   "source": [
    "import csv"
   ]
  },
  {
   "cell_type": "code",
   "execution_count": null,
   "metadata": {
    "collapsed": false
   },
   "outputs": [],
   "source": [
    "keys = result[0].keys()\n",
    "with open('ITLCP-Submission-2016.csv', 'w') as f:  # Just use 'w' mode in 3.x\n",
    "    dict_writer = csv.DictWriter(f, keys)\n",
    "    dict_writer.writeheader()\n",
    "    dict_writer.writerows(result)"
   ]
  }
 ],
 "metadata": {
  "kernelspec": {
   "display_name": "Python 3",
   "language": "python",
   "name": "python3"
  },
  "language_info": {
   "codemirror_mode": {
    "name": "ipython",
    "version": 3
   },
   "file_extension": ".py",
   "mimetype": "text/x-python",
   "name": "python",
   "nbconvert_exporter": "python",
   "pygments_lexer": "ipython3",
   "version": "3.4.3"
  }
 },
 "nbformat": 4,
 "nbformat_minor": 0
}
